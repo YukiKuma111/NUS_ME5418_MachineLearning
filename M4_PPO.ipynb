{
 "cells": [
  {
   "cell_type": "markdown",
   "metadata": {},
   "source": [
    "### 1. Create Vectorized Environment"
   ]
  },
  {
   "cell_type": "code",
   "execution_count": 1,
   "metadata": {},
   "outputs": [
    {
     "name": "stdout",
     "output_type": "stream",
     "text": [
      "gym version:  0.26.2\n",
      "torch version:  2.0.0+cu117\n",
      "device:  cpu\n"
     ]
    },
    {
     "name": "stderr",
     "output_type": "stream",
     "text": [
      "/home/yuku/anaconda3/envs/test_env/lib/python3.8/site-packages/gym/envs/registration.py:498: UserWarning: \u001b[33mWARN: Overriding environment Group24M4-v0 already in registry.\u001b[0m\n",
      "  logger.warn(f\"Overriding environment {new_spec.id} already in registry.\")\n"
     ]
    },
    {
     "name": "stdout",
     "output_type": "stream",
     "text": [
      "max_steps:  1600\n",
      "action [-0.7477503  -0.7319027   0.6462268  -0.80477464]\n",
      "observation [ 1.0646296e+00 -3.0330068e-01  1.3867885e+00 -2.0877299e+00\n",
      "  7.2955656e+04  8.7424773e+04  1.8948064e+00 -4.9701424e+00\n",
      " -3.5884371e+00  1.5295662e-02 -2.2771413e+00 -4.4623909e+00\n",
      " -4.1829042e+00  4.7861049e-01  1.4865826e-01  6.6940141e-01\n",
      "  4.4594008e-02 -4.4420522e-01 -3.1527346e-01  1.4136748e-01\n",
      "  1.3274233e-01  9.2385018e-01  8.2369620e-01  2.0529243e-01\n",
      "  6.7419827e-02  7.5690407e-01 -4.4302672e-01  9.9018633e-01\n",
      "  4.4122100e-01  4.7702712e-01  4.5114204e-01  6.0846961e-01\n",
      "  3.9013842e-01 -2.6143578e-01  4.2788804e-01]\n",
      "ac_size Box(-1.0, 1.0, (4,), float32)\n",
      "ob_size (35,)\n"
     ]
    }
   ],
   "source": [
    "%load_ext autoreload\n",
    "%autoreload 2\n",
    "\n",
    "import gym\n",
    "import torch\n",
    "import numpy as np\n",
    "\n",
    "from parallelEnv import parallelEnv\n",
    "from model import Policy\n",
    "from ppo import ppo_agent\n",
    "from storage import RolloutStorage\n",
    "from gym.vector import SyncVectorEnv\n",
    "\n",
    "debug = True\n",
    "\n",
    "print('gym version: ', gym.__version__)\n",
    "print('torch version: ', torch.__version__)\n",
    "\n",
    "seed = 0 \n",
    "gamma=0.99\n",
    "num_processes=16 \n",
    "device = torch.device(\"cpu\")\n",
    "print('device: ', device)\n",
    "\n",
    "envs = parallelEnv('Group24M4-v0', n=num_processes, seed=seed)\n",
    "\n",
    "max_steps = envs.max_steps\n",
    "print('max_steps: ', max_steps)\n",
    "\n",
    "if debug:\n",
    "    action = envs.action_space.sample()\n",
    "    observation = envs.observation_space.sample()\n",
    "    ac_size = envs.action_space\n",
    "    ob_size = envs.observation_space.shape\n",
    "\n",
    "    print(\"action\", action)\n",
    "    print(\"observation\", observation)\n",
    "    print(\"ac_size\", ac_size)\n",
    "    print(\"ob_size\", ob_size)\n",
    "\n",
    "torch.manual_seed(seed)\n",
    "torch.cuda.manual_seed(seed)\n",
    "np.random.seed(seed)"
   ]
  },
  {
   "cell_type": "markdown",
   "metadata": {},
   "source": []
  },
  {
   "cell_type": "markdown",
   "metadata": {},
   "source": [
    "### 2. Instantiate Model, Agent and Storage"
   ]
  },
  {
   "cell_type": "code",
   "execution_count": 2,
   "metadata": {},
   "outputs": [
    {
     "name": "stdout",
     "output_type": "stream",
     "text": [
      "type obs:  <class 'numpy.ndarray'> , shape obs:  (16, 35)\n",
      "type obs_t:  <class 'torch.Tensor'> , shape obs_t:  torch.Size([16, 35])\n"
     ]
    }
   ],
   "source": [
    "policy = Policy(envs.observation_space.shape, envs.action_space,\\\n",
    "        base_kwargs={'recurrent': True})\n",
    "\n",
    "policy.to(device)\n",
    "\n",
    "agent = ppo_agent(actor_critic=policy, ppo_epoch=16, num_mini_batch=16,\\\n",
    "                lr=0.001, eps=1e-5, max_grad_norm=0.5)\n",
    "\n",
    "rollouts = RolloutStorage(num_steps=max_steps, num_processes=num_processes, \\\n",
    "                        obs_shape=envs.observation_space.shape, action_space=envs.action_space, \\\n",
    "                        recurrent_hidden_state_size=policy.recurrent_hidden_state_size)\n",
    "\n",
    "obs = envs.reset()\n",
    "print('type obs: ', type(obs), ', shape obs: ', obs.shape)\n",
    "obs_t = torch.tensor(obs)\n",
    "print('type obs_t: ', type(obs_t), ', shape obs_t: ', obs_t.shape)\n",
    "\n",
    "rollouts.obs[0].copy_(obs_t)\n",
    "rollouts.to(device)\n"
   ]
  }
 ],
 "metadata": {
  "kernelspec": {
   "display_name": "test_env",
   "language": "python",
   "name": "python3"
  },
  "language_info": {
   "codemirror_mode": {
    "name": "ipython",
    "version": 3
   },
   "file_extension": ".py",
   "mimetype": "text/x-python",
   "name": "python",
   "nbconvert_exporter": "python",
   "pygments_lexer": "ipython3",
   "version": "3.8.19"
  }
 },
 "nbformat": 4,
 "nbformat_minor": 2
}
